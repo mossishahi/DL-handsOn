{
 "cells": [
  {
   "cell_type": "code",
   "execution_count": 1,
   "metadata": {},
   "outputs": [],
   "source": [
    "import torch, torchvision"
   ]
  },
  {
   "cell_type": "markdown",
   "metadata": {},
   "source": [
    "# Define a tensor"
   ]
  },
  {
   "cell_type": "code",
   "execution_count": 4,
   "metadata": {},
   "outputs": [
    {
     "name": "stdout",
     "output_type": "stream",
     "text": [
      "tensor([3])\n",
      "tensor([[0., 0.],\n",
      "        [0., 0.],\n",
      "        [0., 0.]])\n",
      "tensor([[1, 2],\n",
      "        [2, 3],\n",
      "        [3, 4]])\n"
     ]
    },
    {
     "data": {
      "text/plain": [
       "tensor([[1, 2, 3],\n",
       "        [2, 3, 4]])"
      ]
     },
     "execution_count": 4,
     "metadata": {},
     "output_type": "execute_result"
    }
   ],
   "source": [
    "a1 = torch.tensor([3])\n",
    "a2 = torch.zeros(3,2)\n",
    "a3 = torch.tensor([[1,2],[2,3],[3,4]])\n",
    "\n",
    "print(a1)\n",
    "print(a2)\n",
    "print(a3)\n",
    "\n",
    "a3.shape  #torch.size\n",
    "\n",
    "f1 = torch.FloatTensor([2.0])\n",
    "f1.stride()\n",
    "a3.transpose(0, 1)\n"
   ]
  },
  {
   "cell_type": "markdown",
   "metadata": {},
   "source": [
    "# Storage"
   ]
  },
  {
   "cell_type": "code",
   "execution_count": 5,
   "metadata": {},
   "outputs": [
    {
     "name": "stdout",
     "output_type": "stream",
     "text": [
      " 1\n",
      " 2\n",
      " 2\n",
      " 3\n",
      " 3\n",
      " 4\n",
      "[torch.LongStorage of size 6]\n",
      "<class 'torch.LongStorage'>\n"
     ]
    }
   ],
   "source": [
    "a_strg = a3.storage()\n",
    "print(a_strg)\n",
    "print(a3.storage_type())"
   ]
  },
  {
   "cell_type": "markdown",
   "metadata": {},
   "source": [
    "# transpose"
   ]
  },
  {
   "cell_type": "code",
   "execution_count": 46,
   "metadata": {
    "scrolled": true
   },
   "outputs": [
    {
     "name": "stdout",
     "output_type": "stream",
     "text": [
      " 2\n",
      " 2\n",
      " 2\n",
      " 3\n",
      " 3\n",
      " 4\n",
      "[torch.LongStorage of size 6]\n",
      " 2\n",
      " 2\n",
      " 2\n",
      " 3\n",
      " 3\n",
      " 4\n",
      "[torch.LongStorage of size 6]\n",
      ">> True\n",
      "False\n",
      "True\n",
      "False\n"
     ]
    }
   ],
   "source": [
    "a3_transpose = a3.t()\n",
    "print(a3_transpose.storage())\n",
    "print(a3.storage())\n",
    "\n",
    "print(\">>\", id(a3.storage()) == id(a3_transpose.storage())) # They are the same in the Memory\n",
    "print(id(a3) == id(a3_transpose)) # They are the same in the Memory\n",
    "\n",
    "# Contigous Memory\n",
    "print(a3.is_contiguous())\n",
    "print(a3_transpose.is_contiguous())"
   ]
  },
  {
   "cell_type": "markdown",
   "metadata": {},
   "source": [
    "# Data Type"
   ]
  },
  {
   "cell_type": "code",
   "execution_count": 7,
   "metadata": {},
   "outputs": [],
   "source": [
    "array_float16 = torch.ones(10, 2, dtype = torch.float16)\n",
    "array_character = torch.ones(10, 2, dtype = torch.int8)\n",
    "array_int16 = torch.ones(10, 2).double()"
   ]
  },
  {
   "cell_type": "markdown",
   "metadata": {},
   "source": [
    "# Indexing Tensors"
   ]
  },
  {
   "cell_type": "code",
   "execution_count": 40,
   "metadata": {},
   "outputs": [
    {
     "name": "stdout",
     "output_type": "stream",
     "text": [
      "tensor([[1, 2],\n",
      "        [2, 3],\n",
      "        [3, 4]])\n",
      "tensor([[1, 2],\n",
      "        [2, 3]])\n",
      "tensor([[1, 2],\n",
      "        [2, 3]])\n",
      "tensor([[1, 2]])\n",
      "tensor([[1, 2],\n",
      "        [2, 3],\n",
      "        [3, 4]])\n"
     ]
    },
    {
     "data": {
      "text/plain": [
       "tensor([[1, 2],\n",
       "        [2, 3],\n",
       "        [3, 4]])"
      ]
     },
     "execution_count": 40,
     "metadata": {},
     "output_type": "execute_result"
    }
   ],
   "source": [
    "print(a3[:])\n",
    "print(a3[0:2])\n",
    "a3_copy = a3.clone()\n",
    "# a3_mrg = torch.cat(a3, a3_copy, 0)\n",
    "print(a3[:-1])\n",
    "print(a3[:-2])\n",
    "print(a3[-3:])\n",
    "a3_copy\n"
   ]
  },
  {
   "cell_type": "markdown",
   "metadata": {},
   "source": [
    "# Convert TO Numpy"
   ]
  },
  {
   "cell_type": "code",
   "execution_count": 42,
   "metadata": {},
   "outputs": [
    {
     "name": "stdout",
     "output_type": "stream",
     "text": [
      "[[2 2]\n",
      " [2 3]\n",
      " [3 4]]\n"
     ]
    },
    {
     "ename": "AttributeError",
     "evalue": "'numpy.ndarray' object has no attribute 'storage'",
     "output_type": "error",
     "traceback": [
      "\u001b[0;31m---------------------------------------------------------------------------\u001b[0m",
      "\u001b[0;31mAttributeError\u001b[0m                            Traceback (most recent call last)",
      "\u001b[0;32m<ipython-input-42-599d038022ca>\u001b[0m in \u001b[0;36m<module>\u001b[0;34m\u001b[0m\n\u001b[1;32m      3\u001b[0m \u001b[0ma3\u001b[0m\u001b[0;34m[\u001b[0m\u001b[0;36m0\u001b[0m\u001b[0;34m]\u001b[0m\u001b[0;34m[\u001b[0m\u001b[0;36m0\u001b[0m\u001b[0;34m]\u001b[0m \u001b[0;34m=\u001b[0m \u001b[0;36m2\u001b[0m\u001b[0;34m\u001b[0m\u001b[0;34m\u001b[0m\u001b[0m\n\u001b[1;32m      4\u001b[0m \u001b[0mprint\u001b[0m\u001b[0;34m(\u001b[0m\u001b[0ma3_np\u001b[0m\u001b[0;34m)\u001b[0m\u001b[0;34m\u001b[0m\u001b[0;34m\u001b[0m\u001b[0m\n\u001b[0;32m----> 5\u001b[0;31m \u001b[0mid\u001b[0m\u001b[0;34m(\u001b[0m\u001b[0ma3\u001b[0m\u001b[0;34m.\u001b[0m\u001b[0mstorage\u001b[0m\u001b[0;34m(\u001b[0m\u001b[0;34m)\u001b[0m\u001b[0;34m)\u001b[0m \u001b[0;34m==\u001b[0m \u001b[0mid\u001b[0m\u001b[0;34m(\u001b[0m\u001b[0ma3_np\u001b[0m\u001b[0;34m.\u001b[0m\u001b[0mstorage\u001b[0m\u001b[0;34m(\u001b[0m\u001b[0;34m)\u001b[0m\u001b[0;34m)\u001b[0m\u001b[0;34m\u001b[0m\u001b[0;34m\u001b[0m\u001b[0m\n\u001b[0m",
      "\u001b[0;31mAttributeError\u001b[0m: 'numpy.ndarray' object has no attribute 'storage'"
     ]
    }
   ],
   "source": [
    "# Interestingly They do not Copy the Data\n",
    "a3_np = a3.numpy()\n",
    "a3[0][0] = 2\n",
    "print(a3_np)\n",
    "id(a3.storage()) == id(a3_np.storage())"
   ]
  },
  {
   "cell_type": "code",
   "execution_count": 14,
   "metadata": {},
   "outputs": [
    {
     "data": {
      "text/plain": [
       "tensor([[1., 1., 1.],\n",
       "        [1., 1., 1.],\n",
       "        [1., 1., 1.],\n",
       "        [1., 1., 1.]])"
      ]
     },
     "execution_count": 14,
     "metadata": {},
     "output_type": "execute_result"
    }
   ],
   "source": [
    "a = torch.ones(3, 4)\n",
    "a.t_()\n",
    "a"
   ]
  },
  {
   "cell_type": "code",
   "execution_count": null,
   "metadata": {},
   "outputs": [],
   "source": []
  },
  {
   "cell_type": "code",
   "execution_count": 98,
   "metadata": {},
   "outputs": [],
   "source": [
    "x = torch.tensor([[1,2,3,4],[1,2,4,4]])"
   ]
  },
  {
   "cell_type": "code",
   "execution_count": 100,
   "metadata": {},
   "outputs": [
    {
     "name": "stdout",
     "output_type": "stream",
     "text": [
      "torch.Size([2, 4])\n",
      "torch.Size([1, 2, 4])\n",
      "torch.Size([2, 1, 4])\n",
      "torch.Size([4])\n",
      "torch.Size([2, 4])\n",
      "torch.Size([4])\n"
     ]
    },
    {
     "data": {
      "text/plain": [
       "torch.Size([2, 4])"
      ]
     },
     "execution_count": 100,
     "metadata": {},
     "output_type": "execute_result"
    }
   ],
   "source": [
    "x_0 = torch.unsqueeze(x, 0)\n",
    "x_1 = torch.unsqueeze(x, 1)\n",
    "print(x.shape)\n",
    "print(x_0.shape)\n",
    "print(x_1.shape)\n",
    "print(x[0].shape)\n",
    "print(x_0[0].shape)\n",
    "print(x_1[0][0].shape)\n",
    "x_0[0].shape"
   ]
  },
  {
   "cell_type": "markdown",
   "metadata": {},
   "source": [
    "# Real Data "
   ]
  },
  {
   "cell_type": "code",
   "execution_count": 121,
   "metadata": {},
   "outputs": [],
   "source": [
    "import numpy as np\n",
    "import csv"
   ]
  },
  {
   "cell_type": "code",
   "execution_count": 122,
   "metadata": {},
   "outputs": [
    {
     "data": {
      "text/plain": [
       "numpy.ndarray"
      ]
     },
     "execution_count": 122,
     "metadata": {},
     "output_type": "execute_result"
    }
   ],
   "source": [
    "wine_path = './winequality-white.csv'\n",
    "wineq_numpy = np.loadtxt(wine_path, dtype = np.float32, delimiter = \";\", skiprows=1)\n",
    "\n",
    "wineq_numpy.shape\n",
    "type(wineq_numpy)"
   ]
  },
  {
   "cell_type": "code",
   "execution_count": 123,
   "metadata": {},
   "outputs": [
    {
     "data": {
      "text/plain": [
       "['fixed acidity',\n",
       " 'volatile acidity',\n",
       " 'citric acid',\n",
       " 'residual sugar',\n",
       " 'chlorides',\n",
       " 'free sulfur dioxide',\n",
       " 'total sulfur dioxide',\n",
       " 'density',\n",
       " 'pH',\n",
       " 'sulphates',\n",
       " 'alcohol',\n",
       " 'quality']"
      ]
     },
     "execution_count": 123,
     "metadata": {},
     "output_type": "execute_result"
    }
   ],
   "source": [
    "col_list = next(csv.reader(open(wine_path), delimiter = \";\"))\n",
    "type(col_list)\n",
    "len(col_list)\n",
    "col_list"
   ]
  },
  {
   "cell_type": "code",
   "execution_count": 124,
   "metadata": {},
   "outputs": [
    {
     "data": {
      "text/plain": [
       "tensor([[6., 6., 6.,  ..., 6., 7., 6.]])"
      ]
     },
     "execution_count": 124,
     "metadata": {},
     "output_type": "execute_result"
    }
   ],
   "source": [
    "wineq = torch.from_numpy(wineq_numpy)\n",
    "wineq.type\n",
    "wineq[:,11].unsqueeze(0)"
   ]
  },
  {
   "cell_type": "code",
   "execution_count": 125,
   "metadata": {},
   "outputs": [
    {
     "data": {
      "text/plain": [
       "tensor([[5., 6.],\n",
       "        [5., 6.],\n",
       "        [5., 6.]])"
      ]
     },
     "execution_count": 125,
     "metadata": {},
     "output_type": "execute_result"
    }
   ],
   "source": [
    "x = torch.tensor([[[2,4],[5,6],[7,7]],\n",
    "                  [[1,4],[5,6],[7,7]],\n",
    "                  [[2,4],[5,6],[8,7]]])\n",
    "x = x.float()\n",
    "x[:,1]"
   ]
  },
  {
   "cell_type": "code",
   "execution_count": 130,
   "metadata": {},
   "outputs": [
    {
     "name": "stdout",
     "output_type": "stream",
     "text": [
      "tensor([6])\n"
     ]
    },
    {
     "data": {
      "text/plain": [
       "tensor([0., 0., 0., 0., 0., 0., 1., 0., 0., 0.])"
      ]
     },
     "execution_count": 130,
     "metadata": {},
     "output_type": "execute_result"
    }
   ],
   "source": [
    "labels = wineq[:,-1].long()\n",
    "data = wineq[:,:-1]\n",
    "\n",
    "labels_onehot = torch.zeros(labels.shape[0], 10) \n",
    "labels_onehot.scatter_(1, labels.unsqueeze(1), 1.0)\n",
    "print(labels.unsqueeze(1)[234])\n",
    "labels_onehot[233]"
   ]
  },
  {
   "cell_type": "code",
   "execution_count": 14,
   "metadata": {},
   "outputs": [
    {
     "name": "stdout",
     "output_type": "stream",
     "text": [
      "tensor([6.8548e+00, 2.7824e-01, 3.3419e-01, 6.3914e+00, 4.5772e-02, 3.5308e+01,\n",
      "        1.3836e+02, 9.9403e-01, 3.1883e+00, 4.8985e-01, 1.0514e+01])\n"
     ]
    }
   ],
   "source": [
    "data_mean = torch.mean(data, dim = 0) # dim=0 >> the dimension in which rows are distibuted. yet, the dimension 1 is related to different columns.\n",
    "print(data_mean)\n",
    "data.shape\n",
    "data_normalized = (data - data_mean)/torch.sqrt(torch.var(data, dim = 0))"
   ]
  },
  {
   "cell_type": "code",
   "execution_count": 15,
   "metadata": {},
   "outputs": [],
   "source": [
    "bad_indexes = torch.le(labels, 3)\n",
    "mid_indexes = [torch.gt(labels, 3) & torch.le(labels, 7)]\n",
    "good_indexes = [torch.gt(labels, 7)]"
   ]
  },
  {
   "cell_type": "code",
   "execution_count": 48,
   "metadata": {},
   "outputs": [
    {
     "data": {
      "text/plain": [
       "torch.Size([11])"
      ]
     },
     "execution_count": 48,
     "metadata": {},
     "output_type": "execute_result"
    }
   ],
   "source": [
    "bad_data = data[bad_indexes]\n",
    "mid_data = data[mid_indexes]\n",
    "good_data = data[good_indexes]\n",
    "\n",
    "bad_mean = torch.mean(bad_data, dim = 0)\n",
    "mid_mean = torch.mean(mid_data, dim = 0)\n",
    "good_mean = torch.mean(good_data, dim = 0)\n",
    "\n",
    "bad_mean.shape"
   ]
  },
  {
   "cell_type": "code",
   "execution_count": 52,
   "metadata": {},
   "outputs": [
    {
     "name": "stdout",
     "output_type": "stream",
     "text": [
      " 0 fixed acidity          7.60   6.86   6.68\n",
      " 1 volatile acidity       0.33   0.28   0.28\n",
      " 2 citric acid            0.34   0.33   0.33\n",
      " 3 residual sugar         6.39   6.42   5.63\n",
      " 4 chlorides              0.05   0.05   0.04\n",
      " 5 free sulfur dioxide   53.33  35.18  36.63\n",
      " 6 total sulfur dioxide 170.60 138.70 125.88\n",
      " 7 density                0.99   0.99   0.99\n",
      " 8 pH                     3.19   3.19   3.22\n",
      " 9 sulphates              0.47   0.49   0.49\n",
      "10 alcohol               10.34  10.47  11.65\n"
     ]
    }
   ],
   "source": [
    "for i, args in enumerate(zip(col_list, bad_mean, mid_mean, good_mean)):\n",
    "    print('{:2} {:20} {:6.2f} {:6.2f} {:6.2f}'.format(i, *args))"
   ]
  },
  {
   "cell_type": "code",
   "execution_count": 72,
   "metadata": {},
   "outputs": [
    {
     "data": {
      "text/plain": [
       "torch.Size([4898])"
      ]
     },
     "execution_count": 72,
     "metadata": {},
     "output_type": "execute_result"
    }
   ],
   "source": [
    "predicted_indices = torch.lt(data[:,6], mid_mean.unsqueeze(1)[6])\n",
    "predicted_indices.shape"
   ]
  },
  {
   "cell_type": "code",
   "execution_count": 92,
   "metadata": {},
   "outputs": [
    {
     "data": {
      "text/plain": [
       "tensor(3258)"
      ]
     },
     "execution_count": 92,
     "metadata": {},
     "output_type": "execute_result"
    }
   ],
   "source": [
    "actual_indices = labels > 5.0\n",
    "actual_indices.sum()"
   ]
  },
  {
   "cell_type": "code",
   "execution_count": 93,
   "metadata": {},
   "outputs": [
    {
     "name": "stdout",
     "output_type": "stream",
     "text": [
      "0.7391138273491215\n"
     ]
    }
   ],
   "source": [
    "print((actual_indices & predicted_indices).sum().item() / predicted_indices.sum().item())"
   ]
  },
  {
   "cell_type": "code",
   "execution_count": 82,
   "metadata": {},
   "outputs": [
    {
     "data": {
      "text/plain": [
       "2509"
      ]
     },
     "execution_count": 82,
     "metadata": {},
     "output_type": "execute_result"
    }
   ],
   "source": [
    "(actual_indices & predicted_indices).sum().item()"
   ]
  },
  {
   "cell_type": "markdown",
   "metadata": {},
   "source": [
    "# Time Series, Bike Sharing data set"
   ]
  },
  {
   "cell_type": "code",
   "execution_count": 152,
   "metadata": {},
   "outputs": [
    {
     "name": "stdout",
     "output_type": "stream",
     "text": [
      "['instant', 'dteday', 'season', 'yr', 'mnth', 'hr', 'holiday', 'weekday', 'workingday', 'weathersit', 'temp', 'atemp', 'hum', 'windspeed', 'casual', 'registered', 'cnt']\n",
      "torch.Size([730, 24, 17])\n"
     ]
    },
    {
     "data": {
      "text/plain": [
       "(408, 17, 1)"
      ]
     },
     "execution_count": 152,
     "metadata": {},
     "output_type": "execute_result"
    }
   ],
   "source": [
    "bikes_numpy = np.loadtxt(\"./Bike-Sharing-Dataset/hour.csv\", delimiter = \",\", skiprows = 1, dtype = np.float32, converters = {1: lambda x: float(x[8:10])})\n",
    "\n",
    "bikes = torch.from_numpy(bikes_numpy)\n",
    "bikes = torch.cat((bikes, bikes[:141, :]), dim = 0) #my data set had 17379 instead of 17530, added fake rows to reach 17520\n",
    "bikes.shape\n",
    "\n",
    "import csv\n",
    "column_list = next(csv.reader(open(\"./Bike-Sharing-Dataset/hour.csv\"), delimiter= \",\"))\n",
    "print(column_list)\n",
    "\n",
    "daily_bikes = bikes.view(-1, 24, bikes.shape[1])\n",
    "\n",
    "print(daily_bikes.shape)\n",
    "daily_bikes.stride()"
   ]
  },
  {
   "cell_type": "code",
   "execution_count": 153,
   "metadata": {},
   "outputs": [
    {
     "data": {
      "text/plain": [
       "torch.Size([730, 17, 24])"
      ]
     },
     "execution_count": 153,
     "metadata": {},
     "output_type": "execute_result"
    }
   ],
   "source": [
    "daily_bikes.transpose(1, 2).shape\n"
   ]
  },
  {
   "cell_type": "markdown",
   "metadata": {},
   "source": [
    "# Text processing "
   ]
  },
  {
   "cell_type": "markdown",
   "metadata": {},
   "source": [
    "# Character to vec"
   ]
  },
  {
   "cell_type": "code",
   "execution_count": 226,
   "metadata": {},
   "outputs": [
    {
     "data": {
      "text/plain": [
       "tensor([[0., 0., 0.,  ..., 0., 0., 0.],\n",
       "        [0., 0., 0.,  ..., 0., 0., 0.],\n",
       "        [0., 0., 0.,  ..., 0., 0., 0.],\n",
       "        ...,\n",
       "        [0., 0., 0.,  ..., 0., 0., 0.],\n",
       "        [0., 0., 0.,  ..., 0., 0., 0.],\n",
       "        [0., 0., 0.,  ..., 0., 0., 0.]])"
      ]
     },
     "execution_count": 226,
     "metadata": {},
     "output_type": "execute_result"
    }
   ],
   "source": [
    "with open('./1342-0.txt', encoding = 'utf-8') as f:\n",
    "    text = f.read()\n",
    "\n",
    "lines = text.split('\\n')\n",
    "line = lines[198].lower()\n",
    "line\n",
    "\n",
    "char_tensor = torch.zeros(len(line.lower().strip()), 128)\n",
    "\n",
    "asc_codes = []\n",
    "for l in line.lower().strip():\n",
    "    asc_codes.append(ord(l))\n",
    "\n",
    "char_tensor.scatter_(1, torch.tensor(asc_codes).unsqueeze(1), 1.0) #Book has written this line of code in another way"
   ]
  },
  {
   "cell_type": "code",
   "execution_count": 305,
   "metadata": {},
   "outputs": [
    {
     "name": "stdout",
     "output_type": "stream",
     "text": [
      "place  5538\n",
      "and   464\n",
      "was  7922\n",
      "so  6827\n",
      "much  4897\n",
      "delighted  1953\n",
      "with  8085\n",
      "it  4141\n",
      "that  7314\n",
      "he  3511\n",
      "agreed   363\n",
      "with  8085\n",
      "mr  4895\n"
     ]
    }
   ],
   "source": [
    "def clean_text(text):\n",
    "    text = text.lower()\n",
    "    punctuations = ',.;:\"?!#_-\"'\n",
    "    clean_text = text.replace('\\n', ' ').split()\n",
    "    clean_text_words = [word.strip(punctuations) for word in clean_text]\n",
    "    return clean_text_words\n",
    "\n",
    "words_in_line = clean_text(line)\n",
    "words_in_line\n",
    "\n",
    "word2index_map = {word: i for(i, word) in enumerate(sorted(set(clean_text(text))))}\n",
    "word2index_map\n",
    "\n",
    "word_indices = []\n",
    "\n",
    "for key in words_in_line:\n",
    "    word_indices.append(word2index_map[key])\n",
    "\n",
    "word_indices\n",
    "words_tensor = torch.zeros(len(word_indices), len(set(clean_text(text))))\n",
    "word_tensor.shape\n",
    "words_tensor.scatter_(1, torch.tensor(word_indices).unsqueeze(1), 1.0)\n",
    "\n",
    "words_tensor.shape\n",
    "# torch.tensor(word_indices).unsqueeze(1)\n",
    "\n",
    "len(word_indices), len(words_in_line)\n",
    "for i, args in enumerate(zip(words_in_line, word_indices)):\n",
    "    print('{:} {:5}'.format(*args))"
   ]
  },
  {
   "cell_type": "markdown",
   "metadata": {},
   "source": [
    "# Image"
   ]
  },
  {
   "cell_type": "code",
   "execution_count": 330,
   "metadata": {},
   "outputs": [
    {
     "data": {
      "text/plain": [
       "((375, 500, 3), (257, 334, 3))"
      ]
     },
     "execution_count": 330,
     "metadata": {},
     "output_type": "execute_result"
    }
   ],
   "source": [
    "import imageio\n",
    "img_arr1 = imageio.imread('./PetImages/Cat/92.jpg')\n",
    "img_arr2 = imageio.imread('PetImages/Cat/23.jpg')\n",
    "img_arr1.shape, img_arr2.shape\n",
    "\n",
    "# img = torch.from_numpy(img_arr)\n",
    "# img_trns = torch.transpose(img, 0, 2)\n",
    "# img_trns.shape # (Channels, Height, Width)\n"
   ]
  },
  {
   "cell_type": "code",
   "execution_count": 328,
   "metadata": {},
   "outputs": [],
   "source": [
    "batch_size = 100\n",
    "batch = torch.zeros(batch_size, img_trns.shape[0], img_trns.shape[1])"
   ]
  },
  {
   "cell_type": "code",
   "execution_count": null,
   "metadata": {},
   "outputs": [],
   "source": []
  },
  {
   "cell_type": "markdown",
   "metadata": {},
   "source": [
    "# Chapter 7"
   ]
  },
  {
   "cell_type": "markdown",
   "metadata": {},
   "source": [
    "# Building a Image Classifier"
   ]
  },
  {
   "cell_type": "markdown",
   "metadata": {},
   "source": [
    "# Data preProcessing\n",
    "### CIFAR 10"
   ]
  },
  {
   "cell_type": "code",
   "execution_count": 129,
   "metadata": {},
   "outputs": [
    {
     "name": "stdout",
     "output_type": "stream",
     "text": [
      "Files already downloaded and verified\n",
      "Files already downloaded and verified\n"
     ]
    }
   ],
   "source": [
    "import torchvision\n",
    "from torchvision import datasets\n",
    "\n",
    "path = './cifar/cifar10/'\n",
    "cifar10_train = datasets.CIFAR10(path, download = True, train = True)\n",
    "cifar10_val = datasets.CIFAR10(path, download = True, train = False)"
   ]
  },
  {
   "cell_type": "code",
   "execution_count": 11,
   "metadata": {},
   "outputs": [
    {
     "data": {
      "text/plain": [
       "(50000, 10000)"
      ]
     },
     "execution_count": 11,
     "metadata": {},
     "output_type": "execute_result"
    }
   ],
   "source": [
    "type(cifar10_train).__mro__ # __mro__ is a function stands for Method Resolution Order, returns ordered parents of Class\n",
    "len(cifar10_train), len(cifar10_valid)"
   ]
  },
  {
   "cell_type": "code",
   "execution_count": 3,
   "metadata": {},
   "outputs": [
    {
     "data": {
      "text/plain": [
       "(<PIL.Image.Image image mode=RGB size=32x32 at 0x7F1F26DFB9B0>, 9, 'truck')"
      ]
     },
     "execution_count": 3,
     "metadata": {},
     "output_type": "execute_result"
    }
   ],
   "source": [
    "import pickle\n",
    "meta = pickle.load(open('./cifar/cifar10/cifar-10-batches-py/batches.meta', 'rb'))\n",
    "class_names = meta['label_names']\n",
    "\n",
    "img, label = cifar10_train[2]\n",
    "img, label, class_names[label]"
   ]
  },
  {
   "cell_type": "code",
   "execution_count": 4,
   "metadata": {},
   "outputs": [
    {
     "data": {
      "text/plain": [
       "<Figure size 640x480 with 1 Axes>"
      ]
     },
     "metadata": {},
     "output_type": "display_data"
    }
   ],
   "source": [
    "import matplotlib.pyplot as plt \n",
    "plt.imshow(img)\n",
    "plt.show()"
   ]
  },
  {
   "cell_type": "markdown",
   "metadata": {},
   "source": [
    "## it is required to transform the image we have Loaded into a tensor"
   ]
  },
  {
   "cell_type": "code",
   "execution_count": 5,
   "metadata": {},
   "outputs": [],
   "source": [
    "from torchvision import transforms"
   ]
  },
  {
   "cell_type": "markdown",
   "metadata": {},
   "source": [
    "### there are two ways to do a transformation, First:"
   ]
  },
  {
   "cell_type": "code",
   "execution_count": 6,
   "metadata": {},
   "outputs": [
    {
     "data": {
      "text/plain": [
       "torch.Size([3, 32, 32])"
      ]
     },
     "execution_count": 6,
     "metadata": {},
     "output_type": "execute_result"
    }
   ],
   "source": [
    "to_tensor = transforms.ToTensor()\n",
    "img_t = to_tensor(img)\n",
    "img_t.shape"
   ]
  },
  {
   "cell_type": "markdown",
   "metadata": {},
   "source": [
    "### Second way: change the code in which  we load the data in this way:"
   ]
  },
  {
   "cell_type": "code",
   "execution_count": 130,
   "metadata": {},
   "outputs": [
    {
     "name": "stdout",
     "output_type": "stream",
     "text": [
      "Files already downloaded and verified\n",
      "Files already downloaded and verified\n"
     ]
    }
   ],
   "source": [
    "tensor_cifar10_train = torchvision.datasets.CIFAR10(path, train = True, download = True, transform = transforms.ToTensor())\n",
    "tensor_cifar10_val = torchvision.datasets.CIFAR10(path, train = False, download = True, transform = transforms.ToTensor())"
   ]
  },
  {
   "cell_type": "code",
   "execution_count": 8,
   "metadata": {},
   "outputs": [
    {
     "data": {
      "text/plain": [
       "torch.Size([3, 32, 32])"
      ]
     },
     "execution_count": 8,
     "metadata": {},
     "output_type": "execute_result"
    }
   ],
   "source": [
    "t_img_t, _ = tensor_cifar10_train[2]\n",
    "template = t_img_t\n",
    "t_img_t.shape"
   ]
  },
  {
   "cell_type": "markdown",
   "metadata": {},
   "source": [
    "## Show tensors using matplotlib"
   ]
  },
  {
   "cell_type": "code",
   "execution_count": 9,
   "metadata": {},
   "outputs": [
    {
     "data": {
      "text/plain": [
       "<matplotlib.image.AxesImage at 0x7f1f121a3278>"
      ]
     },
     "execution_count": 9,
     "metadata": {},
     "output_type": "execute_result"
    },
    {
     "data": {
      "image/png": "[encoded data removed]",
      "text/plain": [
       "<Figure size 432x288 with 1 Axes>"
      ]
     },
     "metadata": {
      "needs_background": "light"
     },
     "output_type": "display_data"
    }
   ],
   "source": [
    "plt.imshow(t_img_t.permute(1,2,0))"
   ]
  },
  {
   "cell_type": "code",
   "execution_count": 10,
   "metadata": {},
   "outputs": [
    {
     "data": {
      "text/plain": [
       "<matplotlib.image.AxesImage at 0x7f1f1222fe48>"
      ]
     },
     "execution_count": 10,
     "metadata": {},
     "output_type": "execute_result"
    },
    {
     "data": {
      "image/png": "[encoded data removed]",
      "text/plain": [
       "<Figure size 432x288 with 1 Axes>"
      ]
     },
     "metadata": {
      "needs_background": "light"
     },
     "output_type": "display_data"
    }
   ],
   "source": [
    "## Tricky point I myself noticed :)\n",
    "## this line of code could be also helpful to get an image, only ONE CHANNEL OF IT\n",
    "plt.imshow(t_img_t[0]) # =~ plt.imshow(t_img_t[1]) =~ plt.imshow(t_img_t[2])"
   ]
  },
  {
   "cell_type": "markdown",
   "metadata": {},
   "source": [
    "## Normalization"
   ]
  },
  {
   "cell_type": "code",
   "execution_count": 11,
   "metadata": {},
   "outputs": [
    {
     "name": "stdout",
     "output_type": "stream",
     "text": [
      "tensor(1.) tensor(0.0784)\n"
     ]
    },
    {
     "data": {
      "text/plain": [
       "<matplotlib.image.AxesImage at 0x7f1f12127048>"
      ]
     },
     "execution_count": 11,
     "metadata": {},
     "output_type": "execute_result"
    },
    {
     "data": {
      "image/png": "[encoded data removed]",
      "text/plain": [
       "<Figure size 432x288 with 1 Axes>"
      ]
     },
     "metadata": {
      "needs_background": "light"
     },
     "output_type": "display_data"
    }
   ],
   "source": [
    "cell_min, cell_max = t_img_t.min(), t_img_t.max()\n",
    "print(cell_max, cell_min)\n",
    "t_img_t /= cell_max-cell_min\n",
    "t_img_t.min(), t_img_t.max()\n",
    "plt.imshow(t_img_t[0])"
   ]
  },
  {
   "cell_type": "code",
   "execution_count": 12,
   "metadata": {},
   "outputs": [
    {
     "name": "stderr",
     "output_type": "stream",
     "text": [
      "Clipping input data to the valid range for imshow with RGB data ([0..1] for floats or [0..255] for integers).\n"
     ]
    },
    {
     "data": {
      "text/plain": [
       "<matplotlib.image.AxesImage at 0x7f1f10316048>"
      ]
     },
     "execution_count": 12,
     "metadata": {},
     "output_type": "execute_result"
    },
    {
     "data": {
      "image/png": "[encoded data removed]",
      "text/plain": [
       "<Figure size 432x288 with 1 Axes>"
      ]
     },
     "metadata": {
      "needs_background": "light"
     },
     "output_type": "display_data"
    }
   ],
   "source": [
    "plt.imshow(t_img_t.permute(1,2,0))"
   ]
  },
  {
   "cell_type": "code",
   "execution_count": 13,
   "metadata": {},
   "outputs": [
    {
     "name": "stderr",
     "output_type": "stream",
     "text": [
      "Clipping input data to the valid range for imshow with RGB data ([0..1] for floats or [0..255] for integers).\n"
     ]
    },
    {
     "data": {
      "text/plain": [
       "<matplotlib.image.AxesImage at 0x7f1f102f45c0>"
      ]
     },
     "execution_count": 13,
     "metadata": {},
     "output_type": "execute_result"
    },
    {
     "data": {
      "image/png": "[encoded data removed]",
      "text/plain": [
       "<Figure size 432x288 with 1 Axes>"
      ]
     },
     "metadata": {
      "needs_background": "light"
     },
     "output_type": "display_data"
    }
   ],
   "source": [
    "plt.imshow(template.permute(1,2,0))"
   ]
  },
  {
   "cell_type": "code",
   "execution_count": 14,
   "metadata": {},
   "outputs": [
    {
     "data": {
      "text/plain": [
       "torch.Size([3, 32, 32, 50000])"
      ]
     },
     "execution_count": 14,
     "metadata": {},
     "output_type": "execute_result"
    }
   ],
   "source": [
    "images = torch.stack([image_t for image_t, _ in tensor_cifar10_train], dim = 3)\n",
    "images.shape"
   ]
  },
  {
   "cell_type": "code",
   "execution_count": 15,
   "metadata": {},
   "outputs": [
    {
     "data": {
      "text/plain": [
       "(torch.Size([3, 32, 32, 50000]), torch.Size([3, 51200000]))"
      ]
     },
     "execution_count": 15,
     "metadata": {},
     "output_type": "execute_result"
    }
   ],
   "source": [
    "images.shape, images.view(3, -1).shape"
   ]
  },
  {
   "cell_type": "code",
   "execution_count": 16,
   "metadata": {},
   "outputs": [
    {
     "data": {
      "text/plain": [
       "(tensor([0.4915, 0.4823, 0.4468]), tensor([0.2470, 0.2435, 0.2616]))"
      ]
     },
     "execution_count": 16,
     "metadata": {},
     "output_type": "execute_result"
    }
   ],
   "source": [
    "mean = torch.mean(images.view(3, -1), dim = 1) ## Dimension argument(dim) means that: keep the other dimensions fixed \n",
    "                                                # and Calculate a Sigma over the index which iterates \n",
    "mean                                            # over the dimension of dim = 1 \n",
    "var = torch.var(images.view(3, -1), dim = 1)\n",
    "std = torch.sqrt(var)\n",
    "mean, std"
   ]
  },
  {
   "cell_type": "code",
   "execution_count": 17,
   "metadata": {},
   "outputs": [
    {
     "name": "stdout",
     "output_type": "stream",
     "text": [
      "Files already downloaded and verified\n"
     ]
    }
   ],
   "source": [
    "normalized_transformed_cifar10_train = torchvision.datasets.CIFAR10(path, download = True, train = True, \n",
    "                                                                   transform = transforms.Compose([\n",
    "                                                                       transforms.ToTensor(),\n",
    "                                                                       transforms.Normalize(mean = (0.4915, 0.4823, 0.4468),\n",
    "                                                                                           std = (0.2470, 0.2435, 0.2616)\n",
    "                                                                                           )\n",
    "                                                                   ]))\n"
   ]
  },
  {
   "cell_type": "code",
   "execution_count": 18,
   "metadata": {},
   "outputs": [
    {
     "name": "stdout",
     "output_type": "stream",
     "text": [
      "Files already downloaded and verified\n"
     ]
    }
   ],
   "source": [
    "val_images = torch.stack([img for img, label in tensor_cifar10_val], dim = 3)\n",
    "val_images.shape\n",
    "\n",
    "val_mean = torch.mean(val_images.view(3, -1), dim = 1)\n",
    "val_std = torch.std(val_images.view(3, -1), dim = 1)\n",
    "val_mean, val_std\n",
    "\n",
    "normalized_transformed_cifar10_val = torchvision.datasets.CIFAR10(path, download = True, train = False, \n",
    "                                                                 transform = transforms.Compose([\n",
    "                                                                     transforms.ToTensor(),\n",
    "                                                                     transforms.Normalize(mean = (0.4943, 0.4852, 0.4506),\n",
    "                                                                                         std = (0.2467, 0.2429, 0.2616))\n",
    "                                                                 ]))"
   ]
  },
  {
   "cell_type": "code",
   "execution_count": 19,
   "metadata": {},
   "outputs": [
    {
     "data": {
      "text/plain": [
       "(torchvision.datasets.cifar.CIFAR10,\n",
       " torchvision.datasets.vision.VisionDataset,\n",
       " torch.utils.data.dataset.Dataset,\n",
       " object)"
      ]
     },
     "execution_count": 19,
     "metadata": {},
     "output_type": "execute_result"
    }
   ],
   "source": [
    "type(normalized_transformed_cifar10_train).__mro__"
   ]
  },
  {
   "cell_type": "code",
   "execution_count": 20,
   "metadata": {},
   "outputs": [
    {
     "data": {
      "text/plain": [
       "(tensor([[[-1.0055, -1.1960, -1.2595,  ...,  0.6615,  0.9156,  0.1852],\n",
       "          [-0.9896, -1.1167, -1.1643,  ...,  0.5980,  0.7251,  0.3123],\n",
       "          [-1.0690, -0.9738, -1.1008,  ...,  0.4393,  0.3916, -0.0370],\n",
       "          ...,\n",
       "          [ 0.7409,  0.2805,  0.0741,  ..., -0.4975,  0.2487,  0.2170],\n",
       "          [ 0.9156,  0.3916, -0.7197,  ..., -0.7039,  0.1535,  0.2805],\n",
       "          [ 1.3284,  0.8997,  0.2170,  ..., -1.0531,  0.0741,  0.6933]],\n",
       " \n",
       "         [[-0.9500, -1.1754, -1.2721,  ...,  0.7894,  0.9826,  0.2096],\n",
       "          [-0.9339, -1.1271, -1.1754,  ...,  0.7410,  0.8216,  0.3706],\n",
       "          [-0.9822, -0.9178, -1.0144,  ...,  0.5156,  0.4995,  0.0807],\n",
       "          ...,\n",
       "          [ 0.1935, -0.2091, -1.0788,  ..., -0.7728, -0.2414, -0.2897],\n",
       "          [ 0.3706, -0.0803, -0.9500,  ..., -0.8211, -0.0803,  0.0324],\n",
       "          [ 0.8216,  0.4512, -0.2253,  ..., -1.1110, -0.0642,  0.5317]],\n",
       " \n",
       "         [[-1.0484, -1.3182, -1.4231,  ..., -0.6736, -0.5687, -0.6286],\n",
       "          [-1.1533, -1.3182, -1.3032,  ..., -0.7935, -0.5836, -0.5537],\n",
       "          [-1.1683, -1.1533, -1.1533,  ..., -0.7785, -0.7485, -0.8535],\n",
       "          ...,\n",
       "          [-0.2239, -0.4487, -1.0783,  ..., -0.8685, -0.4188, -0.4937],\n",
       "          [ 0.0460, -0.2838, -1.0484,  ..., -0.8085, -0.2389, -0.0590],\n",
       "          [ 0.4507,  0.1359, -0.4637,  ..., -1.0034, -0.0440,  0.6906]]]),\n",
       " 1,\n",
       " 'automobile')"
      ]
     },
     "execution_count": 20,
     "metadata": {},
     "output_type": "execute_result"
    }
   ],
   "source": [
    "n_t_img, n_t_label = normalized_transformed_cifar10_train[99]\n",
    "n_t_img, n_t_label, class_names[n_t_label]"
   ]
  },
  {
   "cell_type": "code",
   "execution_count": 21,
   "metadata": {},
   "outputs": [
    {
     "name": "stderr",
     "output_type": "stream",
     "text": [
      "Clipping input data to the valid range for imshow with RGB data ([0..1] for floats or [0..255] for integers).\n"
     ]
    },
    {
     "data": {
      "text/plain": [
       "<function matplotlib.pyplot.show(*args, **kw)>"
      ]
     },
     "execution_count": 21,
     "metadata": {},
     "output_type": "execute_result"
    },
    {
     "data": {
      "image/png": "[encoded data removed]",
      "text/plain": [
       "<Figure size 432x288 with 1 Axes>"
      ]
     },
     "metadata": {
      "needs_background": "light"
     },
     "output_type": "display_data"
    }
   ],
   "source": [
    "plt.imshow(n_t_img.permute(1, 2, 0))\n",
    "plt.show"
   ]
  },
  {
   "cell_type": "markdown",
   "metadata": {},
   "source": [
    "## Save a Tensor in a file"
   ]
  },
  {
   "cell_type": "code",
   "execution_count": null,
   "metadata": {},
   "outputs": [],
   "source": [
    "n_t_cifar10 = open('./cifar/cifar10/n_t_cifar10.pt', 'wb')\n",
    "torch.save(normalized_transformed_cifar10_train, n_t_cifar10)"
   ]
  },
  {
   "cell_type": "code",
   "execution_count": null,
   "metadata": {},
   "outputs": [],
   "source": []
  },
  {
   "cell_type": "markdown",
   "metadata": {},
   "source": [
    "## Bird vs Plane classifier"
   ]
  },
  {
   "cell_type": "markdown",
   "metadata": {},
   "source": [
    "### make a dataset, a subset of Cifar10"
   ]
  },
  {
   "cell_type": "code",
   "execution_count": 137,
   "metadata": {},
   "outputs": [
    {
     "data": {
      "text/plain": [
       "(10000, 2000)"
      ]
     },
     "execution_count": 137,
     "metadata": {},
     "output_type": "execute_result"
    }
   ],
   "source": [
    "class_names_cifar2 = {0:'airplane', 1:'bird'}\n",
    "desired_labels = [class_names.index('airplane'), class_names.index('bird')]\n",
    "label_map = {class_names.index('airplane'):0, class_names.index('bird'):1}\n",
    "cifar2_train = [(n_t_img, label_map[label]) for n_t_img, label in normalized_transformed_cifar10_train if label in desired_labels]\n",
    "cifar2_val = [(n_t_img, label_map[label]) for n_t_img, label in normalized_transformed_cifar10_val if label in desired_labels]\n",
    "\n",
    "len(cifar2_train), len(cifar2_val)\n"
   ]
  },
  {
   "cell_type": "code",
   "execution_count": 23,
   "metadata": {},
   "outputs": [
    {
     "name": "stderr",
     "output_type": "stream",
     "text": [
      "Clipping input data to the valid range for imshow with RGB data ([0..1] for floats or [0..255] for integers).\n"
     ]
    },
    {
     "data": {
      "image/png": "[encoded data removed]",
      "text/plain": [
       "<Figure size 432x288 with 1 Axes>"
      ]
     },
     "metadata": {
      "needs_background": "light"
     },
     "output_type": "display_data"
    },
    {
     "name": "stderr",
     "output_type": "stream",
     "text": [
      "Clipping input data to the valid range for imshow with RGB data ([0..1] for floats or [0..255] for integers).\n"
     ]
    },
    {
     "name": "stdout",
     "output_type": "stream",
     "text": [
      "0\n",
      "airplane\n"
     ]
    },
    {
     "data": {
      "image/png": "[encoded data removed]",
      "text/plain": [
       "<Figure size 432x288 with 1 Axes>"
      ]
     },
     "metadata": {
      "needs_background": "light"
     },
     "output_type": "display_data"
    },
    {
     "name": "stdout",
     "output_type": "stream",
     "text": [
      "1\n",
      "bird\n"
     ]
    }
   ],
   "source": [
    "img, label = cifar2_train[1580]\n",
    "plt.imshow(img.permute(1,2, 0))\n",
    "plt.show()\n",
    "print(label)\n",
    "print(class_names_cifar2[label])\n",
    "\n",
    "img, label = cifar2_train[254]\n",
    "plt.imshow(img.permute(1,2, 0))\n",
    "plt.show()\n",
    "print(label)\n",
    "print(class_names_cifar2[label])\n"
   ]
  },
  {
   "cell_type": "markdown",
   "metadata": {},
   "source": [
    "## Running the Model"
   ]
  },
  {
   "cell_type": "code",
   "execution_count": 24,
   "metadata": {},
   "outputs": [],
   "source": [
    "import torch.nn as nn"
   ]
  },
  {
   "cell_type": "code",
   "execution_count": null,
   "metadata": {},
   "outputs": [],
   "source": [
    "hyp_lr = 1e-2\n",
    "hyp_n_out = 2\n",
    "hyp_epochs_num = 50\n",
    "hyp_batch_size = 64"
   ]
  },
  {
   "cell_type": "code",
   "execution_count": null,
   "metadata": {},
   "outputs": [],
   "source": [
    "model = nn.Sequential(nn.Linear(hyp_input_nodes, 1024),\n",
    "                     nn.Tanh(),\n",
    "                     nn.Linear(1024, 512),\n",
    "                     nn.Tanh(),\n",
    "                     nn.Linear(512, hyp_n_out),\n",
    "                     nn.LogSoftmax(dim = 1))\n",
    "model.parameters()"
   ]
  },
  {
   "cell_type": "code",
   "execution_count": 138,
   "metadata": {},
   "outputs": [
    {
     "data": {
      "text/plain": [
       "tensor([[-0.6388, -0.7506]], grad_fn=<LogSoftmaxBackward>)"
      ]
     },
     "execution_count": 138,
     "metadata": {},
     "output_type": "execute_result"
    }
   ],
   "source": [
    "out = model(cifar2_train[0][0].view(-1).unsqueeze(0))\n",
    "out"
   ]
  },
  {
   "cell_type": "code",
   "execution_count": 139,
   "metadata": {},
   "outputs": [
    {
     "name": "stderr",
     "output_type": "stream",
     "text": [
      "Clipping input data to the valid range for imshow with RGB data ([0..1] for floats or [0..255] for integers).\n"
     ]
    },
    {
     "data": {
      "text/plain": [
       "<matplotlib.image.AxesImage at 0x7f1e82d19710>"
      ]
     },
     "execution_count": 139,
     "metadata": {},
     "output_type": "execute_result"
    },
    {
     "data": {
      "image/png": "[encoded data removed]",
      "text/plain": [
       "<Figure size 432x288 with 1 Axes>"
      ]
     },
     "metadata": {
      "needs_background": "light"
     },
     "output_type": "display_data"
    }
   ],
   "source": [
    "plt.imshow(cifar2_train[0][0].permute(1,2, 0))"
   ]
  },
  {
   "cell_type": "markdown",
   "metadata": {},
   "source": [
    "## Finally, Runnig the model"
   ]
  },
  {
   "cell_type": "code",
   "execution_count": null,
   "metadata": {},
   "outputs": [],
   "source": [
    "import torch.optim as optim\n",
    "\n",
    "loss_fn = nn.NLLLoss()\n",
    "loss = loss_fn(out, torch.tensor([label]))\n",
    "optimizer = optim.SGD(model.parameters(), lr=0.01)"
   ]
  },
  {
   "cell_type": "code",
   "execution_count": 161,
   "metadata": {},
   "outputs": [
    {
     "name": "stdout",
     "output_type": "stream",
     "text": [
      "Epoch num: 0, Loss: 1.660339\n",
      "Epoch num: 1, Loss: 4.721697\n",
      "Epoch num: 2, Loss: 2.819386\n",
      "Epoch num: 3, Loss: 2.796051\n",
      "Epoch num: 4, Loss: 2.327936\n",
      "Epoch num: 5, Loss: 1.995280\n",
      "Epoch num: 6, Loss: 5.317075\n",
      "Epoch num: 7, Loss: 6.231163\n",
      "Epoch num: 8, Loss: 3.778499\n",
      "Epoch num: 9, Loss: 7.536427\n",
      "Epoch num: 10, Loss: 2.925350\n",
      "Epoch num: 11, Loss: 1.773333\n",
      "Epoch num: 12, Loss: 6.222112\n",
      "Epoch num: 13, Loss: 3.270019\n",
      "Epoch num: 14, Loss: 8.361753\n",
      "Epoch num: 15, Loss: 2.193019\n",
      "Epoch num: 16, Loss: 4.857900\n",
      "Epoch num: 17, Loss: 9.218220\n",
      "Epoch num: 18, Loss: 6.480340\n",
      "Epoch num: 19, Loss: 10.923927\n",
      "Epoch num: 20, Loss: 6.389400\n",
      "Epoch num: 21, Loss: 15.912064\n",
      "Epoch num: 22, Loss: 5.632382\n",
      "Epoch num: 23, Loss: 13.501179\n",
      "Epoch num: 24, Loss: 8.862185\n",
      "Epoch num: 25, Loss: 13.259976\n",
      "Epoch num: 26, Loss: 5.938856\n",
      "Epoch num: 27, Loss: 7.536319\n"
     ]
    },
    {
     "ename": "KeyboardInterrupt",
     "evalue": "",
     "output_type": "error",
     "traceback": [
      "\u001b[0;31m---------------------------------------------------------------------------\u001b[0m",
      "\u001b[0;31mKeyboardInterrupt\u001b[0m                         Traceback (most recent call last)",
      "\u001b[0;32m<ipython-input-161-e8c4b5d3106c>\u001b[0m in \u001b[0;36m<module>\u001b[0;34m\u001b[0m\n\u001b[1;32m      4\u001b[0m         \u001b[0mloss\u001b[0m \u001b[0;34m=\u001b[0m \u001b[0mloss_fn\u001b[0m\u001b[0;34m(\u001b[0m\u001b[0mout\u001b[0m\u001b[0;34m,\u001b[0m \u001b[0mtorch\u001b[0m\u001b[0;34m.\u001b[0m\u001b[0mtensor\u001b[0m\u001b[0;34m(\u001b[0m\u001b[0;34m[\u001b[0m\u001b[0mlabel\u001b[0m\u001b[0;34m]\u001b[0m\u001b[0;34m)\u001b[0m\u001b[0;34m)\u001b[0m\u001b[0;34m\u001b[0m\u001b[0;34m\u001b[0m\u001b[0m\n\u001b[1;32m      5\u001b[0m \u001b[0;34m\u001b[0m\u001b[0m\n\u001b[0;32m----> 6\u001b[0;31m         \u001b[0moptimizer\u001b[0m\u001b[0;34m.\u001b[0m\u001b[0mzero_grad\u001b[0m\u001b[0;34m(\u001b[0m\u001b[0;34m)\u001b[0m\u001b[0;34m\u001b[0m\u001b[0;34m\u001b[0m\u001b[0m\n\u001b[0m\u001b[1;32m      7\u001b[0m         \u001b[0mloss\u001b[0m\u001b[0;34m.\u001b[0m\u001b[0mbackward\u001b[0m\u001b[0;34m(\u001b[0m\u001b[0;34m)\u001b[0m\u001b[0;34m\u001b[0m\u001b[0;34m\u001b[0m\u001b[0m\n\u001b[1;32m      8\u001b[0m         \u001b[0moptimizer\u001b[0m\u001b[0;34m.\u001b[0m\u001b[0mstep\u001b[0m\u001b[0;34m(\u001b[0m\u001b[0;34m)\u001b[0m\u001b[0;34m\u001b[0m\u001b[0;34m\u001b[0m\u001b[0m\n",
      "\u001b[0;32m~/anaconda3/lib/python3.7/site-packages/torch/optim/optimizer.py\u001b[0m in \u001b[0;36mzero_grad\u001b[0;34m(self)\u001b[0m\n\u001b[1;32m    163\u001b[0m                 \u001b[0;32mif\u001b[0m \u001b[0mp\u001b[0m\u001b[0;34m.\u001b[0m\u001b[0mgrad\u001b[0m \u001b[0;32mis\u001b[0m \u001b[0;32mnot\u001b[0m \u001b[0;32mNone\u001b[0m\u001b[0;34m:\u001b[0m\u001b[0;34m\u001b[0m\u001b[0;34m\u001b[0m\u001b[0m\n\u001b[1;32m    164\u001b[0m                     \u001b[0mp\u001b[0m\u001b[0;34m.\u001b[0m\u001b[0mgrad\u001b[0m\u001b[0;34m.\u001b[0m\u001b[0mdetach_\u001b[0m\u001b[0;34m(\u001b[0m\u001b[0;34m)\u001b[0m\u001b[0;34m\u001b[0m\u001b[0;34m\u001b[0m\u001b[0m\n\u001b[0;32m--> 165\u001b[0;31m                     \u001b[0mp\u001b[0m\u001b[0;34m.\u001b[0m\u001b[0mgrad\u001b[0m\u001b[0;34m.\u001b[0m\u001b[0mzero_\u001b[0m\u001b[0;34m(\u001b[0m\u001b[0;34m)\u001b[0m\u001b[0;34m\u001b[0m\u001b[0;34m\u001b[0m\u001b[0m\n\u001b[0m\u001b[1;32m    166\u001b[0m \u001b[0;34m\u001b[0m\u001b[0m\n\u001b[1;32m    167\u001b[0m     \u001b[0;32mdef\u001b[0m \u001b[0mstep\u001b[0m\u001b[0;34m(\u001b[0m\u001b[0mself\u001b[0m\u001b[0;34m,\u001b[0m \u001b[0mclosure\u001b[0m\u001b[0;34m)\u001b[0m\u001b[0;34m:\u001b[0m\u001b[0;34m\u001b[0m\u001b[0;34m\u001b[0m\u001b[0m\n",
      "\u001b[0;31mKeyboardInterrupt\u001b[0m: "
     ]
    }
   ],
   "source": [
    "for epoch in range(hyp_epochs_num):\n",
    "    for img, label in cifar2_train:\n",
    "        out = model(img.view(-1).unsqueeze(0))\n",
    "        loss = loss_fn(out, torch.tensor([label]))\n",
    "        \n",
    "        optimizer.zero_grad()\n",
    "        loss.backward()\n",
    "        optimizer.step()\n",
    "        \n",
    "    print('Epoch num: %d, Loss: %f' % (epoch, float(loss)))"
   ]
  },
  {
   "cell_type": "markdown",
   "metadata": {},
   "source": [
    "## miniBatches"
   ]
  },
  {
   "cell_type": "code",
   "execution_count": 162,
   "metadata": {},
   "outputs": [
    {
     "name": "stdout",
     "output_type": "stream",
     "text": [
      "Epoch num: 0, Loss: 0.805426\n",
      "Epoch num: 1, Loss: 0.014780\n",
      "Epoch num: 2, Loss: 0.283840\n",
      "Epoch num: 3, Loss: 0.117682\n",
      "Epoch num: 4, Loss: 0.108931\n",
      "Epoch num: 5, Loss: 0.052263\n",
      "Epoch num: 6, Loss: 0.056003\n",
      "Epoch num: 7, Loss: 0.046064\n",
      "Epoch num: 8, Loss: 0.258220\n",
      "Epoch num: 9, Loss: 0.093459\n",
      "Epoch num: 10, Loss: 0.427987\n",
      "Epoch num: 11, Loss: 0.187854\n",
      "Epoch num: 12, Loss: 0.130065\n",
      "Epoch num: 13, Loss: 0.230779\n",
      "Epoch num: 14, Loss: 0.185766\n",
      "Epoch num: 15, Loss: 0.039481\n",
      "Epoch num: 16, Loss: 0.043945\n",
      "Epoch num: 17, Loss: 0.360585\n",
      "Epoch num: 18, Loss: 0.148764\n",
      "Epoch num: 19, Loss: 0.123907\n",
      "Epoch num: 20, Loss: 0.122181\n",
      "Epoch num: 21, Loss: 0.086040\n",
      "Epoch num: 22, Loss: 0.011506\n",
      "Epoch num: 23, Loss: 0.017615\n",
      "Epoch num: 24, Loss: 0.095346\n",
      "Epoch num: 25, Loss: 0.034700\n",
      "Epoch num: 26, Loss: 0.039458\n",
      "Epoch num: 27, Loss: 0.271777\n",
      "Epoch num: 28, Loss: 0.071918\n",
      "Epoch num: 29, Loss: 0.007758\n",
      "Epoch num: 30, Loss: 0.141968\n",
      "Epoch num: 31, Loss: 0.183768\n",
      "Epoch num: 32, Loss: 0.027383\n",
      "Epoch num: 33, Loss: 0.041684\n",
      "Epoch num: 34, Loss: 0.058487\n",
      "Epoch num: 35, Loss: 0.031641\n",
      "Epoch num: 36, Loss: 0.024550\n",
      "Epoch num: 37, Loss: 0.118701\n",
      "Epoch num: 38, Loss: 0.071136\n",
      "Epoch num: 39, Loss: 0.153635\n",
      "Epoch num: 40, Loss: 0.127259\n",
      "Epoch num: 41, Loss: 0.042429\n",
      "Epoch num: 42, Loss: 0.184341\n",
      "Epoch num: 43, Loss: 0.122192\n",
      "Epoch num: 44, Loss: 0.018147\n",
      "Epoch num: 45, Loss: 0.063524\n",
      "Epoch num: 46, Loss: 0.041991\n",
      "Epoch num: 47, Loss: 0.152297\n",
      "Epoch num: 48, Loss: 0.229698\n",
      "Epoch num: 49, Loss: 0.016380\n"
     ]
    }
   ],
   "source": [
    "train_loader = torch.utils.data.DataLoader(cifar2_train, shuffle=True, batch_size=hyp_batch_size)\n",
    "\n",
    "# for data in train_loader:\n",
    "#     print(data[1][0])\n",
    "\n",
    "for epoch in range(hyp_epochs_num):\n",
    "    for imgs, labels in train_loader:\n",
    "        outputs = model(imgs.view(-1, 3072))\n",
    "        loss = loss_fn(outputs, labels)\n",
    "        \n",
    "        optimizer.zero_grad()\n",
    "        loss.backward()\n",
    "        optimizer.step()\n",
    "    print('Epoch num: %d, Loss: %f' % (epoch, float(loss)))"
   ]
  },
  {
   "cell_type": "markdown",
   "metadata": {},
   "source": [
    "## Validation"
   ]
  },
  {
   "cell_type": "code",
   "execution_count": 166,
   "metadata": {},
   "outputs": [
    {
     "name": "stdout",
     "output_type": "stream",
     "text": [
      "Accuracy: %f 0.793\n"
     ]
    }
   ],
   "source": [
    "total = 0\n",
    "correct = 0\n",
    "\n",
    "for imgs, labels in torch.utils.data.DataLoader(cifar2_val, shuffle=False, batch_size=64):\n",
    "    outputs = model(imgs.view(-1, 3072))\n",
    "    _, predicted = torch.max(outputs, dim = 1)\n",
    "    total += labels.shape[0]\n",
    "    correct += int((predicted == labels).sum())\n",
    "print(\"Accuracy: %f\", correct/total)"
   ]
  },
  {
   "cell_type": "code",
   "execution_count": 173,
   "metadata": {},
   "outputs": [
    {
     "data": {
      "text/plain": [
       "(False, 4)"
      ]
     },
     "execution_count": 173,
     "metadata": {},
     "output_type": "execute_result"
    }
   ],
   "source": [
    "## a tricky difference between a list in python and its corresponding tensor\n",
    "a = [1,2,3,45,5,56,7]\n",
    "b = [0,2,3,4, 5,5,7]\n",
    "\n",
    "(a==b), int((torch.tensor(a) == torch.tensor(b)).sum())"
   ]
  },
  {
   "cell_type": "markdown",
   "metadata": {},
   "source": [
    "### Number of model's paramters"
   ]
  },
  {
   "cell_type": "code",
   "execution_count": 180,
   "metadata": {},
   "outputs": [
    {
     "data": {
      "text/plain": [
       "(torch.Size([512, 3072]), torch.Size([512]))"
      ]
     },
     "execution_count": 180,
     "metadata": {},
     "output_type": "execute_result"
    }
   ],
   "source": [
    "sum([p.numel() for p in model.parameters()]),\n",
    "sum([p.numel() for p in model.parameters() if p.requires_grad == True]) # Trainable parameters\n",
    "\n",
    "layer = nn.Linear(3072, 512)\n",
    "layer.weight.shape, layer.bias.shape # Computing the number of weight and bias parameters in a Layer"
   ]
  }
 ],
 "metadata": {
  "kernelspec": {
   "display_name": "Python 3",
   "language": "python",
   "name": "python3"
  },
  "language_info": {
   "codemirror_mode": {
    "name": "ipython",
    "version": 3
   },
   "file_extension": ".py",
   "mimetype": "text/x-python",
   "name": "python",
   "nbconvert_exporter": "python",
   "pygments_lexer": "ipython3",
   "version": "3.7.3"
  }
 },
 "nbformat": 4,
 "nbformat_minor": 2
}
