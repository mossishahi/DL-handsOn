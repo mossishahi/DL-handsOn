{
 "cells": [
  {
   "cell_type": "code",
   "execution_count": 43,
   "metadata": {},
   "outputs": [],
   "source": [
    "import keras\n",
    "from keras.models import Sequential\n",
    "from keras.layers import Dense\n",
    "from keras.datasets import mnist\n",
    "import numpy as np"
   ]
  },
  {
   "cell_type": "code",
   "execution_count": 70,
   "metadata": {},
   "outputs": [],
   "source": [
    "(x_train, y_train), (x_test, y_test) = mnist.load_data()\n",
    "x_train = x_train/255\n",
    "x_test=x_test/255\n",
    "\n",
    "np.shape(x_train)\n",
    "\n",
    "x_test = np.reshape(x_test, (x_test.shape[0],28*28))\n",
    "x_train = np.reshape(x_train, (x_train.shape[0],28*28))\n"
   ]
  },
  {
   "cell_type": "code",
   "execution_count": 71,
   "metadata": {},
   "outputs": [],
   "source": [
    "model = Sequential()"
   ]
  },
  {
   "cell_type": "code",
   "execution_count": 72,
   "metadata": {},
   "outputs": [],
   "source": [
    "model.add(Dense(256, activation='relu', input_shape=(784,)))\n",
    "model.add(Dense(128, activation='relu'))\n",
    "model.add(Dense(64, activation='relu'))\n",
    "model.add(Dense(10, activation='softmax'))"
   ]
  },
  {
   "cell_type": "code",
   "execution_count": 73,
   "metadata": {},
   "outputs": [],
   "source": [
    "y_train = keras.utils.to_categorical(y_train, 10)\n",
    "y_test=keras.utils.to_categorical(y_test,10)"
   ]
  },
  {
   "cell_type": "code",
   "execution_count": 74,
   "metadata": {},
   "outputs": [],
   "source": [
    "model.compile(optimizer='adam',metrics=['accuracy'],loss='categorical_crossentropy')"
   ]
  },
  {
   "cell_type": "code",
   "execution_count": 76,
   "metadata": {},
   "outputs": [
    {
     "name": "stdout",
     "output_type": "stream",
     "text": [
      "Train on 8000 samples, validate on 2000 samples\n",
      "Epoch 1/5\n",
      "8000/8000 [==============================] - 0s 45us/step - loss: 0.2569 - acc: 0.9226 - val_loss: 0.1845 - val_acc: 0.9440\n",
      "Epoch 2/5\n",
      "8000/8000 [==============================] - 0s 45us/step - loss: 0.1785 - acc: 0.9463 - val_loss: 0.1759 - val_acc: 0.9470\n",
      "Epoch 3/5\n",
      "8000/8000 [==============================] - 0s 45us/step - loss: 0.1170 - acc: 0.9667 - val_loss: 0.1609 - val_acc: 0.9475\n",
      "Epoch 4/5\n",
      "8000/8000 [==============================] - 0s 45us/step - loss: 0.0873 - acc: 0.9738 - val_loss: 0.1320 - val_acc: 0.9610\n",
      "Epoch 5/5\n",
      "8000/8000 [==============================] - 0s 45us/step - loss: 0.0594 - acc: 0.9828 - val_loss: 0.1359 - val_acc: 0.9565\n"
     ]
    },
    {
     "data": {
      "text/plain": [
       "<keras.callbacks.History at 0x7f7058c57198>"
      ]
     },
     "execution_count": 76,
     "metadata": {},
     "output_type": "execute_result"
    }
   ],
   "source": [
    "model.fit(x_test, y_test,batch_size=128, validation_split=0.2, epochs=5)"
   ]
  },
  {
   "cell_type": "code",
   "execution_count": null,
   "metadata": {},
   "outputs": [],
   "source": []
  }
 ],
 "metadata": {
  "kernelspec": {
   "display_name": "Python 3",
   "language": "python",
   "name": "python3"
  }
 },
 "nbformat": 4,
 "nbformat_minor": 2
}
